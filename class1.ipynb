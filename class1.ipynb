{
 "cells": [
  {
   "cell_type": "code",
   "execution_count": 3,
   "id": "e51d45c4-73e9-48a0-80fc-d0e8fd16eb80",
   "metadata": {},
   "outputs": [
    {
     "name": "stdout",
     "output_type": "stream",
     "text": [
      "     Ename      Type Department  Experience  Salary\n",
      "0   Pramod   Regular         EC           8   40000\n",
      "1    Mohan  Contract         CS           9   10000\n",
      "2   Lojith     Adhoc         EC          14   15000\n",
      "3  Ashwini   Regular         EC           5   15000\n",
      "4     Amar     Adhoc         CS          20   30000\n",
      "5   Roshan   Regular         CS          10   50000\n"
     ]
    }
   ],
   "source": [
    "import pandas as pd\n",
    "data = {\n",
    "    'Ename': ['Pramod', 'Mohan', 'Lojith', 'Ashwini', 'Amar', 'Roshan'],\n",
    "    'Type': ['Regular', 'Contract', 'Adhoc', 'Regular', 'Adhoc', 'Regular'],\n",
    "    'Department': ['EC', 'CS', 'EC', 'EC', 'CS', 'CS'],\n",
    "    'Experience': [8, 9, 14, 5, 20, 10],\n",
    "    'Salary': [40000, 10000, 15000, 15000, 30000, 50000]\n",
    "}\n",
    "\n",
    "df = pd.DataFrame(data)\n",
    "print(df)"
   ]
  },
  {
   "cell_type": "code",
   "execution_count": 4,
   "id": "e1e9fcb4-9322-4aa2-80a1-114786a84b6c",
   "metadata": {},
   "outputs": [
    {
     "name": "stdout",
     "output_type": "stream",
     "text": [
      "Average salary of Regular faculty: 35000.0\n"
     ]
    }
   ],
   "source": [
    "#  Find the average salary of \"Regular\" Faculty\n",
    "avg_regular_salary = df[df['Type'] == 'Regular']['Salary'].mean()\n",
    "print(avg_regular_salary)"
   ]
  },
  {
   "cell_type": "code",
   "execution_count": 7,
   "id": "156e5c3f-5ff8-417a-9c80-672538e0ae0e",
   "metadata": {},
   "outputs": [
    {
     "name": "stdout",
     "output_type": "stream",
     "text": [
      "Type\n",
      "Regular     3\n",
      "Adhoc       2\n",
      "Contract    1\n",
      "Name: count, dtype: int64\n"
     ]
    }
   ],
   "source": [
    "# Display number of faculties available in each type\n",
    "faculty_count = df['Type'].value_counts()\n",
    "print(faculty_count)"
   ]
  },
  {
   "cell_type": "code",
   "execution_count": 9,
   "id": "f01ccc9b-2e1a-479e-ab53-7995966fcc6d",
   "metadata": {},
   "outputs": [
    {
     "name": "stdout",
     "output_type": "stream",
     "text": [
      "   Number  Pencil  Textbooks  Drawing_sheets  Total_units  Profit\n",
      "0       5     520        500             300         1510   15000\n",
      "1       4     500        420             250         1320   12000\n",
      "2       3     400        450             200         1025   10256\n",
      "3       2     350        350             150          950    9500\n",
      "4       1     250        300             100          700    8000\n"
     ]
    }
   ],
   "source": [
    "import pandas as pd\n",
    "data = {\n",
    "    'Number': [5, 4, 3, 2, 1],\n",
    "    'Pencil': [520, 500, 400, 350, 250],\n",
    "    'Textbooks': [500, 420, 450, 350, 300],\n",
    "    'Drawing_sheets': [300, 250, 200, 150, 100],\n",
    "    'Total_units': [1510, 1320, 1025, 950, 700],\n",
    "    'Profit': [15000, 12000, 10256, 9500, 8000]\n",
    "}\n",
    "\n",
    "df = pd.DataFrame(data)\n",
    "print (df)"
   ]
  },
  {
   "cell_type": "code",
   "execution_count": 10,
   "id": "ffa08ecc-91e5-4983-8e7c-fa978aaeb311",
   "metadata": {},
   "outputs": [
    {
     "name": "stdout",
     "output_type": "stream",
     "text": [
      "<class 'pandas.core.frame.DataFrame'>\n",
      "RangeIndex: 5 entries, 0 to 4\n",
      "Data columns (total 6 columns):\n",
      " #   Column          Non-Null Count  Dtype\n",
      "---  ------          --------------  -----\n",
      " 0   Number          5 non-null      int64\n",
      " 1   Pencil          5 non-null      int64\n",
      " 2   Textbooks       5 non-null      int64\n",
      " 3   Drawing_sheets  5 non-null      int64\n",
      " 4   Total_units     5 non-null      int64\n",
      " 5   Profit          5 non-null      int64\n",
      "dtypes: int64(6)\n",
      "memory usage: 372.0 bytes\n"
     ]
    }
   ],
   "source": [
    "df.info()"
   ]
  },
  {
   "cell_type": "code",
   "execution_count": 11,
   "id": "93af52af-9a1a-494e-bcee-85f80f451add",
   "metadata": {},
   "outputs": [
    {
     "data": {
      "text/html": [
       "<div>\n",
       "<style scoped>\n",
       "    .dataframe tbody tr th:only-of-type {\n",
       "        vertical-align: middle;\n",
       "    }\n",
       "\n",
       "    .dataframe tbody tr th {\n",
       "        vertical-align: top;\n",
       "    }\n",
       "\n",
       "    .dataframe thead th {\n",
       "        text-align: right;\n",
       "    }\n",
       "</style>\n",
       "<table border=\"1\" class=\"dataframe\">\n",
       "  <thead>\n",
       "    <tr style=\"text-align: right;\">\n",
       "      <th></th>\n",
       "      <th>Number</th>\n",
       "      <th>Pencil</th>\n",
       "      <th>Textbooks</th>\n",
       "      <th>Drawing_sheets</th>\n",
       "      <th>Total_units</th>\n",
       "      <th>Profit</th>\n",
       "    </tr>\n",
       "  </thead>\n",
       "  <tbody>\n",
       "    <tr>\n",
       "      <th>0</th>\n",
       "      <td>False</td>\n",
       "      <td>False</td>\n",
       "      <td>False</td>\n",
       "      <td>False</td>\n",
       "      <td>False</td>\n",
       "      <td>False</td>\n",
       "    </tr>\n",
       "    <tr>\n",
       "      <th>1</th>\n",
       "      <td>False</td>\n",
       "      <td>False</td>\n",
       "      <td>False</td>\n",
       "      <td>False</td>\n",
       "      <td>False</td>\n",
       "      <td>False</td>\n",
       "    </tr>\n",
       "    <tr>\n",
       "      <th>2</th>\n",
       "      <td>False</td>\n",
       "      <td>False</td>\n",
       "      <td>False</td>\n",
       "      <td>False</td>\n",
       "      <td>False</td>\n",
       "      <td>False</td>\n",
       "    </tr>\n",
       "    <tr>\n",
       "      <th>3</th>\n",
       "      <td>False</td>\n",
       "      <td>False</td>\n",
       "      <td>False</td>\n",
       "      <td>False</td>\n",
       "      <td>False</td>\n",
       "      <td>False</td>\n",
       "    </tr>\n",
       "    <tr>\n",
       "      <th>4</th>\n",
       "      <td>False</td>\n",
       "      <td>False</td>\n",
       "      <td>False</td>\n",
       "      <td>False</td>\n",
       "      <td>False</td>\n",
       "      <td>False</td>\n",
       "    </tr>\n",
       "  </tbody>\n",
       "</table>\n",
       "</div>"
      ],
      "text/plain": [
       "   Number  Pencil  Textbooks  Drawing_sheets  Total_units  Profit\n",
       "0   False   False      False           False        False   False\n",
       "1   False   False      False           False        False   False\n",
       "2   False   False      False           False        False   False\n",
       "3   False   False      False           False        False   False\n",
       "4   False   False      False           False        False   False"
      ]
     },
     "execution_count": 11,
     "metadata": {},
     "output_type": "execute_result"
    }
   ],
   "source": [
    "df.isnull()"
   ]
  },
  {
   "cell_type": "code",
   "execution_count": 14,
   "id": "ca9461b6-5afa-4e6f-bd15-0fd4d8714981",
   "metadata": {},
   "outputs": [
    {
     "name": "stdout",
     "output_type": "stream",
     "text": [
      "54756\n"
     ]
    }
   ],
   "source": [
    "sd= df['Profit'].sum()\n",
    "print(sd)"
   ]
  },
  {
   "cell_type": "code",
   "execution_count": 15,
   "id": "50604945-40be-4244-b746-e397806c57e8",
   "metadata": {},
   "outputs": [
    {
     "name": "stdout",
     "output_type": "stream",
     "text": [
      "300\n"
     ]
    }
   ],
   "source": [
    "cf= df['Drawing_sheets'].max()\n",
    "print(cf)"
   ]
  },
  {
   "cell_type": "code",
   "execution_count": 12,
   "id": "a28affc3-3f54-4a91-8592-63c1987fc32f",
   "metadata": {},
   "outputs": [
    {
     "ename": "NameError",
     "evalue": "name 'df' is not defined",
     "output_type": "error",
     "traceback": [
      "\u001b[1;31m---------------------------------------------------------------------------\u001b[0m",
      "\u001b[1;31mNameError\u001b[0m                                 Traceback (most recent call last)",
      "Cell \u001b[1;32mIn[12], line 1\u001b[0m\n\u001b[1;32m----> 1\u001b[0m df\u001b[38;5;241m.\u001b[39mplot(kind\u001b[38;5;241m=\u001b[39m \u001b[38;5;124m'\u001b[39m\u001b[38;5;124mline\u001b[39m\u001b[38;5;124m'\u001b[39m, x\u001b[38;5;241m=\u001b[39m\u001b[38;5;124m'\u001b[39m\u001b[38;5;124mNumber\u001b[39m\u001b[38;5;124m'\u001b[39m, y\u001b[38;5;241m=\u001b[39m\u001b[38;5;124m'\u001b[39m\u001b[38;5;124mProfit\u001b[39m\u001b[38;5;124m'\u001b[39m)\n\u001b[0;32m      2\u001b[0m plt\u001b[38;5;241m.\u001b[39mshow()\n",
      "\u001b[1;31mNameError\u001b[0m: name 'df' is not defined"
     ]
    }
   ],
   "source": [
    "df.plot(kind= 'line', x='Number', y='Profit')\n",
    "plt.show()"
   ]
  },
  {
   "cell_type": "code",
   "execution_count": 14,
   "id": "082a7bbe-93cd-412e-9665-b98ec8ac3268",
   "metadata": {},
   "outputs": [
    {
     "ename": "NameError",
     "evalue": "name 'plt' is not defined",
     "output_type": "error",
     "traceback": [
      "\u001b[1;31m---------------------------------------------------------------------------\u001b[0m",
      "\u001b[1;31mNameError\u001b[0m                                 Traceback (most recent call last)",
      "Cell \u001b[1;32mIn[14], line 1\u001b[0m\n\u001b[1;32m----> 1\u001b[0m plt\u001b[38;5;241m.\u001b[39mhist(df[\u001b[38;5;124m'\u001b[39m\u001b[38;5;124mProfit\u001b[39m\u001b[38;5;124m'\u001b[39m])\n\u001b[0;32m      2\u001b[0m plt\u001b[38;5;241m.\u001b[39mshow()\n",
      "\u001b[1;31mNameError\u001b[0m: name 'plt' is not defined"
     ]
    }
   ],
   "source": [
    "plt.hist(df['Profit'])\n",
    "plt.show()"
   ]
  },
  {
   "cell_type": "code",
   "execution_count": null,
   "id": "df474ad6-1abc-40a0-bfa1-69013b41d1d6",
   "metadata": {},
   "outputs": [],
   "source": [
    "plt.hist(df['Profit'])\n",
    "plt.show()"
   ]
  }
 ],
 "metadata": {
  "kernelspec": {
   "display_name": "Python 3 (ipykernel)",
   "language": "python",
   "name": "python3"
  },
  "language_info": {
   "codemirror_mode": {
    "name": "ipython",
    "version": 3
   },
   "file_extension": ".py",
   "mimetype": "text/x-python",
   "name": "python",
   "nbconvert_exporter": "python",
   "pygments_lexer": "ipython3",
   "version": "3.12.4"
  }
 },
 "nbformat": 4,
 "nbformat_minor": 5
}
